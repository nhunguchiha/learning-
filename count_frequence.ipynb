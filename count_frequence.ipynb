{
 "cells": [
  {
   "cell_type": "code",
   "execution_count": 1,
   "metadata": {},
   "outputs": [
    {
     "name": "stdout",
     "output_type": "stream",
     "text": [
      "dict_count_cua_df_1\n",
      "dict_count_cua_df_2\n",
      "dict_count_cua_df_3\n",
      "dict_count_cua_df_4\n",
      "dict_count_cua_df_5\n",
      "dict_count_cua_df_6\n"
     ]
    }
   ],
   "source": [
    "filepath = 'C:\\\\Users\\\\HP\\\\Documents\\\\xskt.xlsx'\n",
    "import pandas as pd\n",
    "df = pd.read_excel(filepath)\n",
    "def count_k(k):\n",
    "    dict_count= {}\n",
    "    count = 0\n",
    "    for i in range(1,100,1):\n",
    "        for x in df[str(k)]:\n",
    "            if i == x:\n",
    "                count += 1\n",
    "        dict_count['count_' + str(i) ] = [count] \n",
    "        c = pd.DataFrame.from_dict(dict_count)\n",
    "        count = 0\n",
    "    return c\n",
    "haha = {}\n",
    "def hihi(m):\n",
    "    for m in range(1,m+1,1):\n",
    "        haha['dict_count_cua_df_' + str(m)] = count_k(m)\n",
    "    return haha\n",
    "for i in hihi(len(df.columns)):\n",
    "    print(i)   "
   ]
  },
  {
   "cell_type": "code",
   "execution_count": 2,
   "metadata": {},
   "outputs": [],
   "source": [
    "a = hihi(len(df.columns))"
   ]
  },
  {
   "cell_type": "code",
   "execution_count": 6,
   "metadata": {},
   "outputs": [
    {
     "data": {
      "text/html": [
       "<div>\n",
       "<style scoped>\n",
       "    .dataframe tbody tr th:only-of-type {\n",
       "        vertical-align: middle;\n",
       "    }\n",
       "\n",
       "    .dataframe tbody tr th {\n",
       "        vertical-align: top;\n",
       "    }\n",
       "\n",
       "    .dataframe thead th {\n",
       "        text-align: right;\n",
       "    }\n",
       "</style>\n",
       "<table border=\"1\" class=\"dataframe\">\n",
       "  <thead>\n",
       "    <tr style=\"text-align: right;\">\n",
       "      <th></th>\n",
       "      <th>count_1</th>\n",
       "      <th>count_2</th>\n",
       "      <th>count_3</th>\n",
       "      <th>count_4</th>\n",
       "      <th>count_5</th>\n",
       "      <th>count_6</th>\n",
       "      <th>count_7</th>\n",
       "      <th>count_8</th>\n",
       "      <th>count_9</th>\n",
       "      <th>count_10</th>\n",
       "      <th>...</th>\n",
       "      <th>count_90</th>\n",
       "      <th>count_91</th>\n",
       "      <th>count_92</th>\n",
       "      <th>count_93</th>\n",
       "      <th>count_94</th>\n",
       "      <th>count_95</th>\n",
       "      <th>count_96</th>\n",
       "      <th>count_97</th>\n",
       "      <th>count_98</th>\n",
       "      <th>count_99</th>\n",
       "    </tr>\n",
       "  </thead>\n",
       "  <tbody>\n",
       "    <tr>\n",
       "      <th>0</th>\n",
       "      <td>0</td>\n",
       "      <td>0</td>\n",
       "      <td>0</td>\n",
       "      <td>0</td>\n",
       "      <td>0</td>\n",
       "      <td>0</td>\n",
       "      <td>0</td>\n",
       "      <td>0</td>\n",
       "      <td>0</td>\n",
       "      <td>1</td>\n",
       "      <td>...</td>\n",
       "      <td>0</td>\n",
       "      <td>0</td>\n",
       "      <td>0</td>\n",
       "      <td>0</td>\n",
       "      <td>0</td>\n",
       "      <td>0</td>\n",
       "      <td>0</td>\n",
       "      <td>0</td>\n",
       "      <td>0</td>\n",
       "      <td>0</td>\n",
       "    </tr>\n",
       "  </tbody>\n",
       "</table>\n",
       "<p>1 rows × 99 columns</p>\n",
       "</div>"
      ],
      "text/plain": [
       "   count_1  count_2  count_3  count_4  count_5  count_6  count_7  count_8  \\\n",
       "0        0        0        0        0        0        0        0        0   \n",
       "\n",
       "   count_9  count_10  ...  count_90  count_91  count_92  count_93  count_94  \\\n",
       "0        0         1  ...         0         0         0         0         0   \n",
       "\n",
       "   count_95  count_96  count_97  count_98  count_99  \n",
       "0         0         0         0         0         0  \n",
       "\n",
       "[1 rows x 99 columns]"
      ]
     },
     "execution_count": 6,
     "metadata": {},
     "output_type": "execute_result"
    }
   ],
   "source": [
    "a['dict_count_cua_df_1']+a['dict_count_cua_df_2'] "
   ]
  },
  {
   "cell_type": "code",
   "execution_count": null,
   "metadata": {},
   "outputs": [],
   "source": []
  }
 ],
 "metadata": {
  "kernelspec": {
   "display_name": "Python 3",
   "language": "python",
   "name": "python3"
  },
  "language_info": {
   "codemirror_mode": {
    "name": "ipython",
    "version": 3
   },
   "file_extension": ".py",
   "mimetype": "text/x-python",
   "name": "python",
   "nbconvert_exporter": "python",
   "pygments_lexer": "ipython3",
   "version": "3.8.2"
  }
 },
 "nbformat": 4,
 "nbformat_minor": 4
}
