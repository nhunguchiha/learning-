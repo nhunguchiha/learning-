{
 "cells": [
  {
   "cell_type": "code",
   "execution_count": 8,
   "metadata": {},
   "outputs": [],
   "source": [
    "filepath_input = \"C:\\\\Users\\\\ADMIN\\\\Documents\\\\Nhung\\\\Book1.csv\"\n",
    "filepath_output = \"C:\\\\Users\\\\ADMIN\\\\Documents\\\\Nhung\\\\Book1.txt\"\n",
    "ten_bang = 'PhongBan'"
   ]
  },
  {
   "cell_type": "code",
   "execution_count": 10,
   "metadata": {},
   "outputs": [],
   "source": [
    "import csv\n",
    "text = ''\n",
    "with open(filepath_input, mode='r') as csv_file:\n",
    "    csv_reader = csv.reader(csv_file, delimiter=',')\n",
    "    line_count = 0\n",
    "    for row in csv_reader:\n",
    "        if line_count == 0:\n",
    "            text = f'insert into ' + ten_bang +  f' ({\", \".join(row)}) values'\n",
    "            line_count += 1\n",
    "        else:\n",
    "            text += f'\\n({row[0]}, {row[1]}, {row[2]}),'  \n",
    "    text = text[:len(text) - 1]\n",
    "with open(filepath_output, mode='w') as txt_file:\n",
    "    txt_file.write(text)"
   ]
  }
 ],
 "metadata": {
  "kernelspec": {
   "display_name": "Python 3",
   "language": "python",
   "name": "python3"
  },
  "language_info": {
   "codemirror_mode": {
    "name": "ipython",
    "version": 3
   },
   "file_extension": ".py",
   "mimetype": "text/x-python",
   "name": "python",
   "nbconvert_exporter": "python",
   "pygments_lexer": "ipython3",
   "version": "3.7.6"
  }
 },
 "nbformat": 4,
 "nbformat_minor": 4
}
